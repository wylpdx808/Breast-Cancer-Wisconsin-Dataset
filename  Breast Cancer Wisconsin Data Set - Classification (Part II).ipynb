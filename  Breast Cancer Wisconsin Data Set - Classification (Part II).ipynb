{
 "cells": [
  {
   "cell_type": "markdown",
   "metadata": {},
   "source": [
    "# Breast Cancer Wisconsin (Diagnostic) Data Set \n",
    "## Data Classification "
   ]
  },
  {
   "cell_type": "markdown",
   "metadata": {},
   "source": [
    "As repeated in the Data Exploration - Part I kernel, I will be exploring the Breast Cancer Wisconsin Data Set obtained through [Kaggle](https://www.kaggle.com/uciml/breast-cancer-wisconsin-data), which is also available on the [UCI Machine Learning Repository](https://archive.ics.uci.edu/ml/datasets/Breast+Cancer+Wisconsin+%28Diagnostic%29).\n",
    "\n",
    "According to the repository, this data set contains features computed from digitized images of cells extracted by a fine needle aspirate of a breast mass.  Each feature is a characteristic measured from the cell nuclei of cell masses from 569 patients.  The overall goal of this analysis is to train a learning algorithm that will be able to accurately classify cells into malignant and benign classes.\n"
   ]
  },
  {
   "cell_type": "markdown",
   "metadata": {},
   "source": [
    "There are 32 features in total within this dataset, with one of them being the target feature (diagnosis).  \n",
    "\n",
    "**Variable descriptions: **\n",
    " * 1) ID number \n",
    " * 2) Diagnosis (M = malignant, B = benign) \n",
    " * 3) - 32) For each of the following characteristics, 3 measurements (**mean**, **se**, **worst**) were computed for each cell nuclei:\n",
    "\n",
    "    * radius (mean of distances from center to points on the perimeter) \n",
    "    * texture (standard deviation of gray-scale values) \n",
    "    * perimeter \n",
    "    * area \n",
    "    * smoothness (local variation in radius lengths) \n",
    "    * compactness (perimeter^2 / area - 1.0) \n",
    "    * concavity (severity of concave portions of the contour) \n",
    "    * concave points (number of concave portions of the contour) \n",
    "    * symmetry \n",
    "    * fractal dimension (\"coastline approximation\" - 1)\n",
    "\n",
    "    The **mean**, **standard error** and \"**worst**\" or largest (mean of the three largest values) of these features were computed, resulting in 30 additional features. "
   ]
  },
  {
   "cell_type": "markdown",
   "metadata": {},
   "source": [
    "### Import Libraries"
   ]
  },
  {
   "cell_type": "code",
   "execution_count": 65,
   "metadata": {},
   "outputs": [
    {
     "name": "stdout",
     "output_type": "stream",
     "text": [
      "[' Breast Cancer Wisconsin Data Set - Classification (Part II).ipynb', ' Breast Cancer Wisconsin Data Set - Exploration (Part I) .ipynb', '.git', '.ipynb_checkpoints', 'data.csv', 'README.md']\n"
     ]
    }
   ],
   "source": [
    "import numpy as np \n",
    "import pandas as pd\n",
    "import seaborn as sns  \n",
    "import matplotlib.pyplot as plt \n",
    "%matplotlib inline\n",
    "\n",
    "import os\n",
    "print(os.listdir(\"../Breast-Cancer-Wisconsin-Dataset/\"))"
   ]
  },
  {
   "cell_type": "markdown",
   "metadata": {},
   "source": [
    "### Preprocess Data"
   ]
  },
  {
   "cell_type": "code",
   "execution_count": 66,
   "metadata": {},
   "outputs": [
    {
     "data": {
      "text/html": [
       "<div>\n",
       "<style>\n",
       "    .dataframe thead tr:only-child th {\n",
       "        text-align: right;\n",
       "    }\n",
       "\n",
       "    .dataframe thead th {\n",
       "        text-align: left;\n",
       "    }\n",
       "\n",
       "    .dataframe tbody tr th {\n",
       "        vertical-align: top;\n",
       "    }\n",
       "</style>\n",
       "<table border=\"1\" class=\"dataframe\">\n",
       "  <thead>\n",
       "    <tr style=\"text-align: right;\">\n",
       "      <th></th>\n",
       "      <th>id</th>\n",
       "      <th>diagnosis</th>\n",
       "      <th>radius_mean</th>\n",
       "      <th>texture_mean</th>\n",
       "      <th>perimeter_mean</th>\n",
       "      <th>area_mean</th>\n",
       "      <th>smoothness_mean</th>\n",
       "      <th>compactness_mean</th>\n",
       "      <th>concavity_mean</th>\n",
       "      <th>concave points_mean</th>\n",
       "      <th>...</th>\n",
       "      <th>texture_worst</th>\n",
       "      <th>perimeter_worst</th>\n",
       "      <th>area_worst</th>\n",
       "      <th>smoothness_worst</th>\n",
       "      <th>compactness_worst</th>\n",
       "      <th>concavity_worst</th>\n",
       "      <th>concave points_worst</th>\n",
       "      <th>symmetry_worst</th>\n",
       "      <th>fractal_dimension_worst</th>\n",
       "      <th>Unnamed: 32</th>\n",
       "    </tr>\n",
       "  </thead>\n",
       "  <tbody>\n",
       "    <tr>\n",
       "      <th>0</th>\n",
       "      <td>842302</td>\n",
       "      <td>M</td>\n",
       "      <td>17.99</td>\n",
       "      <td>10.38</td>\n",
       "      <td>122.80</td>\n",
       "      <td>1001.0</td>\n",
       "      <td>0.11840</td>\n",
       "      <td>0.27760</td>\n",
       "      <td>0.3001</td>\n",
       "      <td>0.14710</td>\n",
       "      <td>...</td>\n",
       "      <td>17.33</td>\n",
       "      <td>184.60</td>\n",
       "      <td>2019.0</td>\n",
       "      <td>0.1622</td>\n",
       "      <td>0.6656</td>\n",
       "      <td>0.7119</td>\n",
       "      <td>0.2654</td>\n",
       "      <td>0.4601</td>\n",
       "      <td>0.11890</td>\n",
       "      <td>NaN</td>\n",
       "    </tr>\n",
       "    <tr>\n",
       "      <th>1</th>\n",
       "      <td>842517</td>\n",
       "      <td>M</td>\n",
       "      <td>20.57</td>\n",
       "      <td>17.77</td>\n",
       "      <td>132.90</td>\n",
       "      <td>1326.0</td>\n",
       "      <td>0.08474</td>\n",
       "      <td>0.07864</td>\n",
       "      <td>0.0869</td>\n",
       "      <td>0.07017</td>\n",
       "      <td>...</td>\n",
       "      <td>23.41</td>\n",
       "      <td>158.80</td>\n",
       "      <td>1956.0</td>\n",
       "      <td>0.1238</td>\n",
       "      <td>0.1866</td>\n",
       "      <td>0.2416</td>\n",
       "      <td>0.1860</td>\n",
       "      <td>0.2750</td>\n",
       "      <td>0.08902</td>\n",
       "      <td>NaN</td>\n",
       "    </tr>\n",
       "    <tr>\n",
       "      <th>2</th>\n",
       "      <td>84300903</td>\n",
       "      <td>M</td>\n",
       "      <td>19.69</td>\n",
       "      <td>21.25</td>\n",
       "      <td>130.00</td>\n",
       "      <td>1203.0</td>\n",
       "      <td>0.10960</td>\n",
       "      <td>0.15990</td>\n",
       "      <td>0.1974</td>\n",
       "      <td>0.12790</td>\n",
       "      <td>...</td>\n",
       "      <td>25.53</td>\n",
       "      <td>152.50</td>\n",
       "      <td>1709.0</td>\n",
       "      <td>0.1444</td>\n",
       "      <td>0.4245</td>\n",
       "      <td>0.4504</td>\n",
       "      <td>0.2430</td>\n",
       "      <td>0.3613</td>\n",
       "      <td>0.08758</td>\n",
       "      <td>NaN</td>\n",
       "    </tr>\n",
       "    <tr>\n",
       "      <th>3</th>\n",
       "      <td>84348301</td>\n",
       "      <td>M</td>\n",
       "      <td>11.42</td>\n",
       "      <td>20.38</td>\n",
       "      <td>77.58</td>\n",
       "      <td>386.1</td>\n",
       "      <td>0.14250</td>\n",
       "      <td>0.28390</td>\n",
       "      <td>0.2414</td>\n",
       "      <td>0.10520</td>\n",
       "      <td>...</td>\n",
       "      <td>26.50</td>\n",
       "      <td>98.87</td>\n",
       "      <td>567.7</td>\n",
       "      <td>0.2098</td>\n",
       "      <td>0.8663</td>\n",
       "      <td>0.6869</td>\n",
       "      <td>0.2575</td>\n",
       "      <td>0.6638</td>\n",
       "      <td>0.17300</td>\n",
       "      <td>NaN</td>\n",
       "    </tr>\n",
       "    <tr>\n",
       "      <th>4</th>\n",
       "      <td>84358402</td>\n",
       "      <td>M</td>\n",
       "      <td>20.29</td>\n",
       "      <td>14.34</td>\n",
       "      <td>135.10</td>\n",
       "      <td>1297.0</td>\n",
       "      <td>0.10030</td>\n",
       "      <td>0.13280</td>\n",
       "      <td>0.1980</td>\n",
       "      <td>0.10430</td>\n",
       "      <td>...</td>\n",
       "      <td>16.67</td>\n",
       "      <td>152.20</td>\n",
       "      <td>1575.0</td>\n",
       "      <td>0.1374</td>\n",
       "      <td>0.2050</td>\n",
       "      <td>0.4000</td>\n",
       "      <td>0.1625</td>\n",
       "      <td>0.2364</td>\n",
       "      <td>0.07678</td>\n",
       "      <td>NaN</td>\n",
       "    </tr>\n",
       "  </tbody>\n",
       "</table>\n",
       "<p>5 rows × 33 columns</p>\n",
       "</div>"
      ],
      "text/plain": [
       "         id diagnosis  radius_mean  texture_mean  perimeter_mean  area_mean  \\\n",
       "0    842302         M        17.99         10.38          122.80     1001.0   \n",
       "1    842517         M        20.57         17.77          132.90     1326.0   \n",
       "2  84300903         M        19.69         21.25          130.00     1203.0   \n",
       "3  84348301         M        11.42         20.38           77.58      386.1   \n",
       "4  84358402         M        20.29         14.34          135.10     1297.0   \n",
       "\n",
       "   smoothness_mean  compactness_mean  concavity_mean  concave points_mean  \\\n",
       "0          0.11840           0.27760          0.3001              0.14710   \n",
       "1          0.08474           0.07864          0.0869              0.07017   \n",
       "2          0.10960           0.15990          0.1974              0.12790   \n",
       "3          0.14250           0.28390          0.2414              0.10520   \n",
       "4          0.10030           0.13280          0.1980              0.10430   \n",
       "\n",
       "      ...       texture_worst  perimeter_worst  area_worst  smoothness_worst  \\\n",
       "0     ...               17.33           184.60      2019.0            0.1622   \n",
       "1     ...               23.41           158.80      1956.0            0.1238   \n",
       "2     ...               25.53           152.50      1709.0            0.1444   \n",
       "3     ...               26.50            98.87       567.7            0.2098   \n",
       "4     ...               16.67           152.20      1575.0            0.1374   \n",
       "\n",
       "   compactness_worst  concavity_worst  concave points_worst  symmetry_worst  \\\n",
       "0             0.6656           0.7119                0.2654          0.4601   \n",
       "1             0.1866           0.2416                0.1860          0.2750   \n",
       "2             0.4245           0.4504                0.2430          0.3613   \n",
       "3             0.8663           0.6869                0.2575          0.6638   \n",
       "4             0.2050           0.4000                0.1625          0.2364   \n",
       "\n",
       "   fractal_dimension_worst  Unnamed: 32  \n",
       "0                  0.11890          NaN  \n",
       "1                  0.08902          NaN  \n",
       "2                  0.08758          NaN  \n",
       "3                  0.17300          NaN  \n",
       "4                  0.07678          NaN  \n",
       "\n",
       "[5 rows x 33 columns]"
      ]
     },
     "execution_count": 66,
     "metadata": {},
     "output_type": "execute_result"
    }
   ],
   "source": [
    "data = pd.read_csv('data.csv')\n",
    "data.head()"
   ]
  },
  {
   "cell_type": "markdown",
   "metadata": {},
   "source": [
    "As mentioned in the Part I notebook: \n",
    "* 1) All features except `id`, `diagnosis`, and `Unnamed: 32` are non-null floating point numbers\n",
    "* 2) `diagnosis` is an object variable containing two values: M or B, and will need to be converted to binary \n",
    "* 3) `id` is just an identification number, and is unlikely to hold any predictive power, and so should be dropped\n",
    "* 4) `Unnamed: 32` is a column of NaN values, and so should be dropped\n",
    "\n",
    "Here I set the target feature as `y` and binarize them into 1 and 0. I also set the features I will use to classify this data as `x`.  Finally, I drop the uninformative columns: `id`, `diagnosis`, `Unnamed: 32` from `x`."
   ]
  },
  {
   "cell_type": "code",
   "execution_count": 67,
   "metadata": {
    "collapsed": true
   },
   "outputs": [],
   "source": [
    "# define x columns, drop 'id' and 'Unnamed: 32' columns \n",
    "x = data.drop(['id', 'diagnosis', 'Unnamed: 32'], axis = 1)\n",
    "\n",
    "# binarize y column \n",
    "from sklearn import preprocessing\n",
    "\n",
    "y = data.diagnosis\n",
    "lb = preprocessing.LabelBinarizer()\n",
    "y = pd.DataFrame(data = lb.fit_transform(y), \n",
    "                 columns = ['diagnosis'])\n"
   ]
  },
  {
   "cell_type": "markdown",
   "metadata": {},
   "source": [
    "Next, I split this data into both training and test sets using sklearn's `train_test_split` which will randomly segregate 30% of the data as the test set, and the remaining 70% for the training set.  The training set will be used to train my learning algorithm, while the test set will be stored away for validating the generalization accuracy of the model that we choose. "
   ]
  },
  {
   "cell_type": "code",
   "execution_count": 68,
   "metadata": {
    "collapsed": true
   },
   "outputs": [],
   "source": [
    "# Split into training and test sets\n",
    "from sklearn.model_selection import train_test_split\n",
    "\n",
    "x_train, x_test, y_train, y_test = train_test_split(x, \n",
    "                                                    y, \n",
    "                                                    test_size = 0.3, \n",
    "                                                    random_state = 42)\n"
   ]
  },
  {
   "cell_type": "code",
   "execution_count": 69,
   "metadata": {},
   "outputs": [
    {
     "data": {
      "text/html": [
       "<div>\n",
       "<style>\n",
       "    .dataframe thead tr:only-child th {\n",
       "        text-align: right;\n",
       "    }\n",
       "\n",
       "    .dataframe thead th {\n",
       "        text-align: left;\n",
       "    }\n",
       "\n",
       "    .dataframe tbody tr th {\n",
       "        vertical-align: top;\n",
       "    }\n",
       "</style>\n",
       "<table border=\"1\" class=\"dataframe\">\n",
       "  <thead>\n",
       "    <tr style=\"text-align: right;\">\n",
       "      <th></th>\n",
       "      <th>diagnosis</th>\n",
       "    </tr>\n",
       "  </thead>\n",
       "  <tbody>\n",
       "    <tr>\n",
       "      <th>149</th>\n",
       "      <td>0</td>\n",
       "    </tr>\n",
       "    <tr>\n",
       "      <th>124</th>\n",
       "      <td>0</td>\n",
       "    </tr>\n",
       "    <tr>\n",
       "      <th>421</th>\n",
       "      <td>0</td>\n",
       "    </tr>\n",
       "    <tr>\n",
       "      <th>195</th>\n",
       "      <td>0</td>\n",
       "    </tr>\n",
       "    <tr>\n",
       "      <th>545</th>\n",
       "      <td>0</td>\n",
       "    </tr>\n",
       "  </tbody>\n",
       "</table>\n",
       "</div>"
      ],
      "text/plain": [
       "     diagnosis\n",
       "149          0\n",
       "124          0\n",
       "421          0\n",
       "195          0\n",
       "545          0"
      ]
     },
     "execution_count": 69,
     "metadata": {},
     "output_type": "execute_result"
    }
   ],
   "source": [
    "y_train.head()"
   ]
  },
  {
   "cell_type": "markdown",
   "metadata": {},
   "source": [
    "As with the Part I, I use `StandardScaler()` to normalize and scale my data.  Data leakage is unexpected introduction of information from test data into training data that influence the model to yield an overconfident generalization error. \n",
    "\n",
    "To prevent data leakage, I split my data into training and test set before feeding the training and test set to the scaler accordingly.  "
   ]
  },
  {
   "cell_type": "code",
   "execution_count": 70,
   "metadata": {
    "collapsed": true
   },
   "outputs": [],
   "source": [
    "# Scale data \n",
    "from sklearn.preprocessing import StandardScaler\n",
    "\n",
    "stdsc = StandardScaler()\n",
    "x_train_scaled = pd.DataFrame(stdsc.fit_transform(x_train), \n",
    "                              columns = x_train.columns)\n",
    "\n",
    "x_test_scaled = pd.DataFrame(stdsc.fit_transform(x_test),\n",
    "                             columns = x_test.columns)"
   ]
  },
  {
   "cell_type": "code",
   "execution_count": 71,
   "metadata": {},
   "outputs": [
    {
     "data": {
      "text/html": [
       "<div>\n",
       "<style>\n",
       "    .dataframe thead tr:only-child th {\n",
       "        text-align: right;\n",
       "    }\n",
       "\n",
       "    .dataframe thead th {\n",
       "        text-align: left;\n",
       "    }\n",
       "\n",
       "    .dataframe tbody tr th {\n",
       "        vertical-align: top;\n",
       "    }\n",
       "</style>\n",
       "<table border=\"1\" class=\"dataframe\">\n",
       "  <thead>\n",
       "    <tr style=\"text-align: right;\">\n",
       "      <th></th>\n",
       "      <th>radius_mean</th>\n",
       "      <th>texture_mean</th>\n",
       "      <th>perimeter_mean</th>\n",
       "      <th>area_mean</th>\n",
       "      <th>smoothness_mean</th>\n",
       "      <th>compactness_mean</th>\n",
       "      <th>concavity_mean</th>\n",
       "      <th>concave points_mean</th>\n",
       "      <th>symmetry_mean</th>\n",
       "      <th>fractal_dimension_mean</th>\n",
       "      <th>...</th>\n",
       "      <th>radius_worst</th>\n",
       "      <th>texture_worst</th>\n",
       "      <th>perimeter_worst</th>\n",
       "      <th>area_worst</th>\n",
       "      <th>smoothness_worst</th>\n",
       "      <th>compactness_worst</th>\n",
       "      <th>concavity_worst</th>\n",
       "      <th>concave points_worst</th>\n",
       "      <th>symmetry_worst</th>\n",
       "      <th>fractal_dimension_worst</th>\n",
       "    </tr>\n",
       "  </thead>\n",
       "  <tbody>\n",
       "    <tr>\n",
       "      <th>0</th>\n",
       "      <td>-0.123490</td>\n",
       "      <td>-0.296801</td>\n",
       "      <td>-0.170507</td>\n",
       "      <td>-0.208616</td>\n",
       "      <td>-1.201680</td>\n",
       "      <td>-0.773170</td>\n",
       "      <td>-0.762312</td>\n",
       "      <td>-0.933241</td>\n",
       "      <td>-1.229949</td>\n",
       "      <td>-0.948166</td>\n",
       "      <td>...</td>\n",
       "      <td>-0.197620</td>\n",
       "      <td>-0.506748</td>\n",
       "      <td>-0.307910</td>\n",
       "      <td>-0.273576</td>\n",
       "      <td>-1.507424</td>\n",
       "      <td>-0.449260</td>\n",
       "      <td>-0.572239</td>\n",
       "      <td>-0.840822</td>\n",
       "      <td>-0.856362</td>\n",
       "      <td>-0.765748</td>\n",
       "    </tr>\n",
       "    <tr>\n",
       "      <th>1</th>\n",
       "      <td>-0.228268</td>\n",
       "      <td>-0.657951</td>\n",
       "      <td>-0.253775</td>\n",
       "      <td>-0.296503</td>\n",
       "      <td>-1.804637</td>\n",
       "      <td>-0.587616</td>\n",
       "      <td>-0.091985</td>\n",
       "      <td>-0.542684</td>\n",
       "      <td>-1.419985</td>\n",
       "      <td>-0.612491</td>\n",
       "      <td>...</td>\n",
       "      <td>-0.422917</td>\n",
       "      <td>-0.458495</td>\n",
       "      <td>-0.465287</td>\n",
       "      <td>-0.438127</td>\n",
       "      <td>-1.273017</td>\n",
       "      <td>0.027042</td>\n",
       "      <td>0.318045</td>\n",
       "      <td>-0.377067</td>\n",
       "      <td>-1.341582</td>\n",
       "      <td>-0.414807</td>\n",
       "    </tr>\n",
       "    <tr>\n",
       "      <th>2</th>\n",
       "      <td>0.145534</td>\n",
       "      <td>-1.230564</td>\n",
       "      <td>0.245833</td>\n",
       "      <td>-0.010242</td>\n",
       "      <td>0.519184</td>\n",
       "      <td>1.570006</td>\n",
       "      <td>0.732320</td>\n",
       "      <td>0.386583</td>\n",
       "      <td>1.054201</td>\n",
       "      <td>1.574228</td>\n",
       "      <td>...</td>\n",
       "      <td>0.036022</td>\n",
       "      <td>-1.192272</td>\n",
       "      <td>0.203869</td>\n",
       "      <td>-0.127445</td>\n",
       "      <td>-0.024877</td>\n",
       "      <td>0.770802</td>\n",
       "      <td>0.272612</td>\n",
       "      <td>-0.047627</td>\n",
       "      <td>-0.089971</td>\n",
       "      <td>0.488264</td>\n",
       "    </tr>\n",
       "    <tr>\n",
       "      <th>3</th>\n",
       "      <td>-0.358532</td>\n",
       "      <td>-0.672207</td>\n",
       "      <td>-0.400937</td>\n",
       "      <td>-0.400014</td>\n",
       "      <td>-1.203862</td>\n",
       "      <td>-0.970650</td>\n",
       "      <td>-0.634704</td>\n",
       "      <td>-0.654992</td>\n",
       "      <td>0.096572</td>\n",
       "      <td>-0.827986</td>\n",
       "      <td>...</td>\n",
       "      <td>-0.502189</td>\n",
       "      <td>-0.583287</td>\n",
       "      <td>-0.501000</td>\n",
       "      <td>-0.493386</td>\n",
       "      <td>-0.959895</td>\n",
       "      <td>-0.663496</td>\n",
       "      <td>-0.470142</td>\n",
       "      <td>-0.493515</td>\n",
       "      <td>0.226547</td>\n",
       "      <td>-0.802899</td>\n",
       "    </tr>\n",
       "    <tr>\n",
       "      <th>4</th>\n",
       "      <td>-0.157472</td>\n",
       "      <td>0.967224</td>\n",
       "      <td>-0.208843</td>\n",
       "      <td>-0.241538</td>\n",
       "      <td>-0.254695</td>\n",
       "      <td>-0.700630</td>\n",
       "      <td>-0.750349</td>\n",
       "      <td>-0.637469</td>\n",
       "      <td>-0.518248</td>\n",
       "      <td>-0.642882</td>\n",
       "      <td>...</td>\n",
       "      <td>-0.195534</td>\n",
       "      <td>0.596414</td>\n",
       "      <td>-0.296107</td>\n",
       "      <td>-0.266734</td>\n",
       "      <td>-0.442374</td>\n",
       "      <td>-0.656085</td>\n",
       "      <td>-0.835138</td>\n",
       "      <td>-0.659802</td>\n",
       "      <td>-0.387208</td>\n",
       "      <td>-0.800613</td>\n",
       "    </tr>\n",
       "  </tbody>\n",
       "</table>\n",
       "<p>5 rows × 30 columns</p>\n",
       "</div>"
      ],
      "text/plain": [
       "   radius_mean  texture_mean  perimeter_mean  area_mean  smoothness_mean  \\\n",
       "0    -0.123490     -0.296801       -0.170507  -0.208616        -1.201680   \n",
       "1    -0.228268     -0.657951       -0.253775  -0.296503        -1.804637   \n",
       "2     0.145534     -1.230564        0.245833  -0.010242         0.519184   \n",
       "3    -0.358532     -0.672207       -0.400937  -0.400014        -1.203862   \n",
       "4    -0.157472      0.967224       -0.208843  -0.241538        -0.254695   \n",
       "\n",
       "   compactness_mean  concavity_mean  concave points_mean  symmetry_mean  \\\n",
       "0         -0.773170       -0.762312            -0.933241      -1.229949   \n",
       "1         -0.587616       -0.091985            -0.542684      -1.419985   \n",
       "2          1.570006        0.732320             0.386583       1.054201   \n",
       "3         -0.970650       -0.634704            -0.654992       0.096572   \n",
       "4         -0.700630       -0.750349            -0.637469      -0.518248   \n",
       "\n",
       "   fractal_dimension_mean           ...             radius_worst  \\\n",
       "0               -0.948166           ...                -0.197620   \n",
       "1               -0.612491           ...                -0.422917   \n",
       "2                1.574228           ...                 0.036022   \n",
       "3               -0.827986           ...                -0.502189   \n",
       "4               -0.642882           ...                -0.195534   \n",
       "\n",
       "   texture_worst  perimeter_worst  area_worst  smoothness_worst  \\\n",
       "0      -0.506748        -0.307910   -0.273576         -1.507424   \n",
       "1      -0.458495        -0.465287   -0.438127         -1.273017   \n",
       "2      -1.192272         0.203869   -0.127445         -0.024877   \n",
       "3      -0.583287        -0.501000   -0.493386         -0.959895   \n",
       "4       0.596414        -0.296107   -0.266734         -0.442374   \n",
       "\n",
       "   compactness_worst  concavity_worst  concave points_worst  symmetry_worst  \\\n",
       "0          -0.449260        -0.572239             -0.840822       -0.856362   \n",
       "1           0.027042         0.318045             -0.377067       -1.341582   \n",
       "2           0.770802         0.272612             -0.047627       -0.089971   \n",
       "3          -0.663496        -0.470142             -0.493515        0.226547   \n",
       "4          -0.656085        -0.835138             -0.659802       -0.387208   \n",
       "\n",
       "   fractal_dimension_worst  \n",
       "0                -0.765748  \n",
       "1                -0.414807  \n",
       "2                 0.488264  \n",
       "3                -0.802899  \n",
       "4                -0.800613  \n",
       "\n",
       "[5 rows x 30 columns]"
      ]
     },
     "execution_count": 71,
     "metadata": {},
     "output_type": "execute_result"
    }
   ],
   "source": [
    "x_train_scaled.head()"
   ]
  },
  {
   "cell_type": "markdown",
   "metadata": {
    "collapsed": true
   },
   "source": [
    "### Testing Different Classifiers\n",
    "\n",
    "Next I run a quick comparison of different classifiers using sklearn's `cross_val_score` which will separate the data into `k` portions, train the data on `k-1` portions, and test on the remaining portion.  I feed in only the training set (`x_train_scaled` and `y_train`), and set aside the test set for final testing at the end of this notebook. \n",
    "\n",
    "I compared the following models: \n",
    "   * Logistic Regression:\n",
    "       * logistic regression is a linear classification model which models the relationship of a categorical dependent variable and independent variable(s) by measuring probabilities of a particular outcome using a logistic function\n",
    "       * `LogisticRegressionCV` has built-in cross validation for optimizing parameter C and also L2 regularization\n",
    "       \n",
    "      \n",
    "   * Decision Tree: \n",
    "       * decision trees are another type of classification model that predicts the value of a target variable by learning simple decision rules\n",
    "       \n",
    "       \n",
    "   * Random Forest: \n",
    "        * random forest fits a number of decision trees on subsets of the data and uses averaging to yield a model with improved predictive accuracy and that is less prone to overfitting\n",
    "        \n",
    "        \n",
    "   * SVM: \n",
    "       * support vector machines are another type of classification model that has the versatility of learning non-linear boundaries by specifying a kernel\n",
    "       * given the relatively small training set and the small feature space, I opted to use a Gaussian kernel"
   ]
  },
  {
   "cell_type": "code",
   "execution_count": 72,
   "metadata": {},
   "outputs": [
    {
     "data": {
      "text/plain": [
       "{'decisiontree': 0.9095909590959097,\n",
       " 'logisticregression_l2': 0.97232223222322234,\n",
       " 'randomforest': 0.94459445944594456,\n",
       " 'svcgaussian': 0.97484748474847482}"
      ]
     },
     "execution_count": 72,
     "metadata": {},
     "output_type": "execute_result"
    }
   ],
   "source": [
    "from sklearn.linear_model import LogisticRegressionCV\n",
    "from sklearn.tree import DecisionTreeClassifier\n",
    "from sklearn.ensemble import RandomForestClassifier\n",
    "from sklearn.svm import SVC\n",
    "from sklearn.model_selection import cross_val_score\n",
    "\n",
    "clf = {'logisticregression_l2': LogisticRegressionCV(), \n",
    "       'decisiontree': DecisionTreeClassifier(), \n",
    "       'randomforest': RandomForestClassifier(),\n",
    "       'svcgaussian': SVC(kernel = 'rbf')}\n",
    "\n",
    "# averages cross validation scores across different models \n",
    "scores = {}\n",
    "for key, model in clf.items(): \n",
    "    s = cross_val_score(model, \n",
    "                        x_train_scaled.values, \n",
    "                        y_train.values.ravel(), \n",
    "                        cv = 4, \n",
    "                        scoring = 'accuracy')\n",
    "    scores[key] = np.mean(s)\n",
    "    \n",
    "scores\n",
    "\n"
   ]
  },
  {
   "cell_type": "markdown",
   "metadata": {},
   "source": []
  },
  {
   "cell_type": "markdown",
   "metadata": {},
   "source": [
    "### SVM with Gaussian Kernel \n",
    "\n",
    "Training a SVM classifier and optimizing hyperparameters\n",
    "\n",
    "Support Vector Machines are a powerful classification algorithm that enables non-linear decision boundaries through the use of kernels.  Through kernels, SVMs enable non-linear boundaries by transforming data to different dimensionality so that it is linearly separable.  For this classification, I will be using the radial basis function (RBF), which is the Gaussian kernel.  Since the number of training examples is larger than the number of features, and my data is small, SVC with an rbf kernel is a good choice.  "
   ]
  },
  {
   "cell_type": "code",
   "execution_count": 73,
   "metadata": {
    "collapsed": true
   },
   "outputs": [],
   "source": [
    "from sklearn.model_selection import GridSearchCV\n",
    "from sklearn.pipeline import Pipeline\n",
    "from sklearn.feature_selection import SelectKBest, f_classif\n",
    "\n",
    "selectK = SelectKBest(f_classif)\n",
    "clf = SVC(kernel = 'rbf', probability = True)\n",
    "steps = [('feature_selection', selectK), \n",
    "         ('SVC', clf)]\n",
    "\n",
    "pipe = Pipeline(steps)\n",
    "\n",
    "parameters = {'feature_selection__k': np.arange(1,30,5), \n",
    "              'SVC__C': np.logspace(-3,4, num = 8), # C = [1e-3,..,1e4]\n",
    "              'SVC__gamma': np.logspace(-3,4, num = 8)} # gamma same as C\n",
    "\n",
    "cv = GridSearchCV(pipe, param_grid = parameters)"
   ]
  },
  {
   "cell_type": "code",
   "execution_count": 74,
   "metadata": {},
   "outputs": [
    {
     "data": {
      "text/plain": [
       "GridSearchCV(cv=None, error_score='raise',\n",
       "       estimator=Pipeline(memory=None,\n",
       "     steps=[('feature_selection', SelectKBest(k=10, score_func=<function f_classif at 0x000001C96B7E9400>)), ('SVC', SVC(C=1.0, cache_size=200, class_weight=None, coef0=0.0,\n",
       "  decision_function_shape='ovr', degree=3, gamma='auto', kernel='rbf',\n",
       "  max_iter=-1, probability=True, random_state=None, shrinking=True,\n",
       "  tol=0.001, verbose=False))]),\n",
       "       fit_params=None, iid=True, n_jobs=1,\n",
       "       param_grid={'feature_selection__k': array([ 1,  6, 11, 16, 21, 26]), 'SVC__C': array([  1.00000e-03,   1.00000e-02,   1.00000e-01,   1.00000e+00,\n",
       "         1.00000e+01,   1.00000e+02,   1.00000e+03,   1.00000e+04]), 'SVC__gamma': array([  1.00000e-03,   1.00000e-02,   1.00000e-01,   1.00000e+00,\n",
       "         1.00000e+01,   1.00000e+02,   1.00000e+03,   1.00000e+04])},\n",
       "       pre_dispatch='2*n_jobs', refit=True, return_train_score=True,\n",
       "       scoring=None, verbose=0)"
      ]
     },
     "execution_count": 74,
     "metadata": {},
     "output_type": "execute_result"
    }
   ],
   "source": [
    "cv.fit(x_train_scaled, y_train.values.ravel())"
   ]
  },
  {
   "cell_type": "code",
   "execution_count": 75,
   "metadata": {
    "collapsed": true
   },
   "outputs": [],
   "source": [
    "y_predict = cv.predict(x_test_scaled)"
   ]
  },
  {
   "cell_type": "code",
   "execution_count": 76,
   "metadata": {},
   "outputs": [
    {
     "data": {
      "text/plain": [
       "{'SVC__C': 10.0, 'SVC__gamma': 0.01, 'feature_selection__k': 21}"
      ]
     },
     "execution_count": 76,
     "metadata": {},
     "output_type": "execute_result"
    }
   ],
   "source": [
    "cv.best_params_"
   ]
  },
  {
   "cell_type": "code",
   "execution_count": 77,
   "metadata": {},
   "outputs": [
    {
     "data": {
      "text/plain": [
       "0.98830409356725146"
      ]
     },
     "execution_count": 77,
     "metadata": {},
     "output_type": "execute_result"
    }
   ],
   "source": [
    "from sklearn.metrics import accuracy_score\n",
    "from sklearn.metrics import confusion_matrix\n",
    "\n",
    "ac = accuracy_score(y_test, y_predict)\n",
    "ac "
   ]
  },
  {
   "cell_type": "code",
   "execution_count": 78,
   "metadata": {},
   "outputs": [
    {
     "data": {
      "image/png": "[encoded data removed]",
      "text/plain": [
       "<matplotlib.figure.Figure at 0x1c96bc95240>"
      ]
     },
     "metadata": {},
     "output_type": "display_data"
    }
   ],
   "source": [
    "cm = confusion_matrix(y_test, y_predict)\n",
    "sns.heatmap(cm, annot = True, fmt = 'd'); "
   ]
  },
  {
   "cell_type": "code",
   "execution_count": 79,
   "metadata": {
    "scrolled": false
   },
   "outputs": [
    {
     "name": "stdout",
     "output_type": "stream",
     "text": [
      "             precision    recall  f1-score   support\n",
      "\n",
      "          0       0.98      1.00      0.99       108\n",
      "          1       1.00      0.97      0.98        63\n",
      "\n",
      "avg / total       0.99      0.99      0.99       171\n",
      "\n",
      "   accuracy       auc        f1  precision    recall\n",
      "0  0.988304  0.984127  0.983871        1.0  0.968254\n"
     ]
    }
   ],
   "source": [
    "from sklearn.metrics import classification_report, accuracy_score, precision_score, recall_score\n",
    "from sklearn.metrics import f1_score, roc_auc_score\n",
    "\n",
    "report = classification_report(y_test, y_predict)\n",
    "print(report)\n",
    "\n",
    "score_df = pd.DataFrame({'accuracy': accuracy_score(y_test, y_predict),\n",
    "                         'precision': precision_score(y_test, y_predict), \n",
    "                         'recall': recall_score(y_test, y_predict), \n",
    "                         'f1': f1_score(y_test, y_predict), \n",
    "                         'auc': roc_auc_score(y_test, y_predict)}, \n",
    "                        index = pd.Index([0]))\n",
    "\n",
    "print(score_df) "
   ]
  },
  {
   "cell_type": "code",
   "execution_count": 80,
   "metadata": {},
   "outputs": [
    {
     "data": {
      "image/png": "[encoded data removed]",
      "text/plain": [
       "<matplotlib.figure.Figure at 0x1c96badf710>"
      ]
     },
     "metadata": {},
     "output_type": "display_data"
    }
   ],
   "source": [
    "# ROC-AUC and precision-recall curves \n",
    "\n",
    "from sklearn.metrics import roc_curve, precision_recall_curve, confusion_matrix \n",
    "\n",
    "sns.set_context('talk')\n",
    "\n",
    "# Get the probabilities for each of the two categories \n",
    "y_prob = cv.predict_proba(x_test_scaled)\n",
    "\n",
    "# Plot the ROC-AUC curbe \n",
    "fig, axList = plt.subplots(ncols = 2) \n",
    "fig.set_size_inches(11,5)\n",
    "ax = axList[0]\n",
    "\n",
    "fpr, tpr, thresholds = roc_curve(y_test, y_prob[:,1])\n",
    "ax.plot(fpr, tpr)\n",
    "\n",
    "# Random guess line \n",
    "ax.plot([0,1], [0,1], ls = '--', color = 'black', lw = 0.7)\n",
    "ax.set(xlabel = 'False Positive Rate', ylabel = 'True Positive Rate', \n",
    "       xlim = [-0.01, 1.01], ylim = [-0.01, 1.01], \n",
    "       title = 'ROC Curve')\n",
    "ax.grid(True)\n",
    "\n",
    "# Plot the precision-recall curve \n",
    "ax = axList[1]\n",
    "\n",
    "precision, recall, _ = precision_recall_curve(y_test, y_prob[:,1])\n",
    "ax.plot(recall, precision)\n",
    "ax.set(xlabel = 'Recall', ylabel = 'Precision', \n",
    "       xlim = [-0.01, 1.01], ylim = [-0.01, 1.01], \n",
    "       title = 'Precision-Recall Curve')\n",
    "\n",
    "ax.grid(True)\n",
    "plt.tight_layout()"
   ]
  },
  {
   "cell_type": "code",
   "execution_count": 81,
   "metadata": {
    "collapsed": true
   },
   "outputs": [],
   "source": [
    "C = cv.best_params_['SVC__C']\n",
    "gamma = cv.best_params_['SVC__gamma']\n",
    "k = cv.best_params_['feature_selection__k']"
   ]
  },
  {
   "cell_type": "code",
   "execution_count": 82,
   "metadata": {},
   "outputs": [
    {
     "name": "stdout",
     "output_type": "stream",
     "text": [
      "10.0 0.01 21\n"
     ]
    }
   ],
   "source": [
    "print (C, gamma, k)"
   ]
  },
  {
   "cell_type": "code",
   "execution_count": 1,
   "metadata": {},
   "outputs": [
    {
     "ename": "NameError",
     "evalue": "name 'cv' is not defined",
     "output_type": "error",
     "traceback": [
      "\u001b[1;31m---------------------------------------------------------------------------\u001b[0m",
      "\u001b[1;31mNameError\u001b[0m                                 Traceback (most recent call last)",
      "\u001b[1;32m<ipython-input-1-e42db45b484b>\u001b[0m in \u001b[0;36m<module>\u001b[1;34m()\u001b[0m\n\u001b[1;32m----> 1\u001b[1;33m \u001b[0mmask\u001b[0m \u001b[1;33m=\u001b[0m \u001b[0mlist\u001b[0m\u001b[1;33m(\u001b[0m\u001b[0mcv\u001b[0m\u001b[1;33m.\u001b[0m\u001b[0mbest_estimator_\u001b[0m\u001b[1;33m.\u001b[0m\u001b[0mnamed_steps\u001b[0m\u001b[1;33m.\u001b[0m\u001b[0mfeature_selection\u001b[0m\u001b[1;33m.\u001b[0m\u001b[0mget_support\u001b[0m\u001b[1;33m(\u001b[0m\u001b[1;33m)\u001b[0m\u001b[1;33m)\u001b[0m\u001b[1;33m\u001b[0m\u001b[0m\n\u001b[0m\u001b[0;32m      2\u001b[0m \u001b[0mselected_features\u001b[0m \u001b[1;33m=\u001b[0m \u001b[0mx\u001b[0m\u001b[1;33m.\u001b[0m\u001b[0mcolumns\u001b[0m\u001b[1;33m[\u001b[0m\u001b[0mmask\u001b[0m\u001b[1;33m]\u001b[0m\u001b[1;33m\u001b[0m\u001b[0m\n\u001b[0;32m      3\u001b[0m \u001b[0mlist\u001b[0m\u001b[1;33m(\u001b[0m\u001b[0mselected_features\u001b[0m\u001b[1;33m)\u001b[0m\u001b[1;33m\u001b[0m\u001b[0m\n",
      "\u001b[1;31mNameError\u001b[0m: name 'cv' is not defined"
     ]
    }
   ],
   "source": [
    "mask = list(cv.best_estimator_.named_steps.feature_selection.get_support())\n",
    "selected_features = x.columns[mask]\n",
    "list(selected_features)"
   ]
  },
  {
   "cell_type": "code",
   "execution_count": null,
   "metadata": {},
   "outputs": [],
   "source": [
    "mask_not = [not x for x in mask]\n",
    "notselected_feat = x.columns[mask_not]\n",
    "list(notselected_feat)"
   ]
  },
  {
   "cell_type": "code",
   "execution_count": null,
   "metadata": {
    "collapsed": true
   },
   "outputs": [],
   "source": []
  },
  {
   "cell_type": "code",
   "execution_count": null,
   "metadata": {
    "collapsed": true
   },
   "outputs": [],
   "source": []
  },
  {
   "cell_type": "code",
   "execution_count": null,
   "metadata": {
    "collapsed": true
   },
   "outputs": [],
   "source": []
  },
  {
   "cell_type": "code",
   "execution_count": 34,
   "metadata": {
    "collapsed": true
   },
   "outputs": [],
   "source": [
    "y_malignant = (y_train['diagnosis'] == 1).astype(int)"
   ]
  },
  {
   "cell_type": "code",
   "execution_count": 35,
   "metadata": {},
   "outputs": [
    {
     "data": {
      "text/plain": [
       "texture_se                 0.021392\n",
       "fractal_dimension_mean     0.032082\n",
       "symmetry_se                0.033383\n",
       "smoothness_se              0.049268\n",
       "fractal_dimension_se       0.060112\n",
       "concavity_se               0.249660\n",
       "compactness_se             0.271625\n",
       "fractal_dimension_worst    0.290516\n",
       "symmetry_mean              0.351107\n",
       "smoothness_mean            0.357168\n",
       "concave points_se          0.394745\n",
       "smoothness_worst           0.405991\n",
       "texture_mean               0.406121\n",
       "symmetry_worst             0.433798\n",
       "texture_worst              0.455530\n",
       "area_se                    0.512069\n",
       "perimeter_se               0.529007\n",
       "radius_se                  0.545140\n",
       "compactness_worst          0.581583\n",
       "compactness_mean           0.582411\n",
       "concavity_worst            0.674592\n",
       "area_mean                  0.688087\n",
       "concavity_mean             0.691392\n",
       "radius_mean                0.712933\n",
       "area_worst                 0.715231\n",
       "perimeter_mean             0.726666\n",
       "radius_worst               0.761693\n",
       "perimeter_worst            0.770895\n",
       "concave points_mean        0.780350\n",
       "concave points_worst       0.791089\n",
       "dtype: float64"
      ]
     },
     "execution_count": 35,
     "metadata": {},
     "output_type": "execute_result"
    }
   ],
   "source": [
    "correlations_malignant = x_train.corrwith(y_malignant)\n",
    "correlations_malignant.map(abs).sort_values()"
   ]
  },
  {
   "cell_type": "code",
   "execution_count": 36,
   "metadata": {},
   "outputs": [
    {
     "data": {
      "text/plain": [
       "['concave points_mean', 'concave points_worst']"
      ]
     },
     "execution_count": 36,
     "metadata": {},
     "output_type": "execute_result"
    }
   ],
   "source": [
    "fields_malignant = list(correlations_malignant.map(abs).sort_values().iloc[-2:].index)\n",
    "fields_malignant"
   ]
  },
  {
   "cell_type": "code",
   "execution_count": null,
   "metadata": {
    "collapsed": true
   },
   "outputs": [],
   "source": []
  },
  {
   "cell_type": "code",
   "execution_count": null,
   "metadata": {
    "collapsed": true
   },
   "outputs": [],
   "source": []
  },
  {
   "cell_type": "code",
   "execution_count": null,
   "metadata": {
    "collapsed": true
   },
   "outputs": [],
   "source": []
  },
  {
   "cell_type": "code",
   "execution_count": null,
   "metadata": {
    "collapsed": true
   },
   "outputs": [],
   "source": []
  },
  {
   "cell_type": "code",
   "execution_count": 41,
   "metadata": {
    "collapsed": true
   },
   "outputs": [],
   "source": [
    "y_int = (data['diagnosis'] == 'M').astype(int)"
   ]
  },
  {
   "cell_type": "code",
   "execution_count": 42,
   "metadata": {
    "collapsed": true
   },
   "outputs": [],
   "source": [
    "correlations = x.corrwith(y_int)"
   ]
  },
  {
   "cell_type": "code",
   "execution_count": 43,
   "metadata": {},
   "outputs": [
    {
     "data": {
      "text/plain": [
       "symmetry_se                0.006522\n",
       "texture_se                 0.008303\n",
       "fractal_dimension_mean     0.012838\n",
       "smoothness_se              0.067016\n",
       "fractal_dimension_se       0.077972\n",
       "concavity_se               0.253730\n",
       "compactness_se             0.292999\n",
       "fractal_dimension_worst    0.323872\n",
       "symmetry_mean              0.330499\n",
       "smoothness_mean            0.358560\n",
       "concave points_se          0.408042\n",
       "texture_mean               0.415185\n",
       "symmetry_worst             0.416294\n",
       "smoothness_worst           0.421465\n",
       "texture_worst              0.456903\n",
       "area_se                    0.548236\n",
       "perimeter_se               0.556141\n",
       "radius_se                  0.567134\n",
       "compactness_worst          0.590998\n",
       "compactness_mean           0.596534\n",
       "concavity_worst            0.659610\n",
       "concavity_mean             0.696360\n",
       "area_mean                  0.708984\n",
       "radius_mean                0.730029\n",
       "area_worst                 0.733825\n",
       "perimeter_mean             0.742636\n",
       "radius_worst               0.776454\n",
       "concave points_mean        0.776614\n",
       "perimeter_worst            0.782914\n",
       "concave points_worst       0.793566\n",
       "dtype: float64"
      ]
     },
     "execution_count": 43,
     "metadata": {},
     "output_type": "execute_result"
    }
   ],
   "source": [
    "correlations = correlations.map(abs).sort_values()\n",
    "correlations"
   ]
  },
  {
   "cell_type": "code",
   "execution_count": 54,
   "metadata": {},
   "outputs": [
    {
     "data": {
      "text/plain": [
       "['perimeter_worst', 'concave points_worst']"
      ]
     },
     "execution_count": 54,
     "metadata": {},
     "output_type": "execute_result"
    }
   ],
   "source": [
    "fields = list(correlations.iloc[-2:].index)\n",
    "fields "
   ]
  },
  {
   "cell_type": "code",
   "execution_count": null,
   "metadata": {
    "collapsed": true
   },
   "outputs": [],
   "source": []
  },
  {
   "cell_type": "code",
   "execution_count": null,
   "metadata": {
    "collapsed": true
   },
   "outputs": [],
   "source": [
    "\n"
   ]
  },
  {
   "cell_type": "code",
   "execution_count": 55,
   "metadata": {
    "collapsed": true
   },
   "outputs": [],
   "source": [
    "x_axis, y_axis = np.arange(-2, 5, 0.05), np.arange(-2, 5, 0.05)\n",
    "xx, yy = np.meshgrid(x_axis, y_axis)\n",
    "xx_ravel = xx.ravel()\n",
    "yy_ravel = yy.ravel()\n",
    "X_grid = pd.DataFrame([xx_ravel, yy_ravel]).T"
   ]
  },
  {
   "cell_type": "code",
   "execution_count": 56,
   "metadata": {
    "collapsed": true
   },
   "outputs": [],
   "source": [
    "X = data[fields]\n",
    "\n",
    "scaler = StandardScaler()\n",
    "X = scaler.fit_transform(X) \n",
    "X = pd.DataFrame(X, columns = fields)"
   ]
  },
  {
   "cell_type": "code",
   "execution_count": 57,
   "metadata": {},
   "outputs": [
    {
     "data": {
      "text/plain": [
       "SVC(C=10.0, cache_size=200, class_weight=None, coef0=0.0,\n",
       "  decision_function_shape='ovr', degree=3, gamma=0.01, kernel='rbf',\n",
       "  max_iter=-1, probability=False, random_state=None, shrinking=True,\n",
       "  tol=0.001, verbose=False)"
      ]
     },
     "execution_count": 57,
     "metadata": {},
     "output_type": "execute_result"
    }
   ],
   "source": [
    "clf_opt = SVC(kernel = 'rbf', C = C, gamma = gamma)\n",
    "clf_opt.fit(X, y_int)"
   ]
  },
  {
   "cell_type": "code",
   "execution_count": 58,
   "metadata": {
    "collapsed": true
   },
   "outputs": [],
   "source": [
    "y_grid_predictions = clf_opt.predict(X_grid)"
   ]
  },
  {
   "cell_type": "code",
   "execution_count": 59,
   "metadata": {
    "collapsed": true
   },
   "outputs": [],
   "source": [
    "y_grid_predictions = y_grid_predictions.reshape(xx.shape)\n"
   ]
  },
  {
   "cell_type": "code",
   "execution_count": 60,
   "metadata": {},
   "outputs": [
    {
     "data": {
      "text/plain": [
       "0    red\n",
       "1    red\n",
       "2    red\n",
       "3    red\n",
       "4    red\n",
       "Name: diagnosis, dtype: object"
      ]
     },
     "execution_count": 60,
     "metadata": {},
     "output_type": "execute_result"
    }
   ],
   "source": [
    "y_color = y_int.map(lambda r: 'red' if r == 1 else 'yellow')\n",
    "y_color.head()"
   ]
  },
  {
   "cell_type": "code",
   "execution_count": 61,
   "metadata": {},
   "outputs": [
    {
     "data": {
      "image/png": "[encoded data removed]",
      "text/plain": [
       "<matplotlib.figure.Figure at 0x1c96ba96d68>"
      ]
     },
     "metadata": {},
     "output_type": "display_data"
    }
   ],
   "source": [
    "fig, ax = plt.subplots(figsize = (5,5))\n",
    "ax.contourf(xx, yy, y_grid_predictions, cmap = plt.cm.autumn_r, alpha = 0.2);\n",
    "ax.scatter(X.iloc[:,0], X.iloc[:,1], color = y_color, label = y_color);\n",
    "ax.set(xlabel = fields[0], ylabel = fields[1]);\n"
   ]
  },
  {
   "cell_type": "code",
   "execution_count": null,
   "metadata": {
    "collapsed": true
   },
   "outputs": [],
   "source": []
  },
  {
   "cell_type": "code",
   "execution_count": null,
   "metadata": {
    "collapsed": true
   },
   "outputs": [],
   "source": []
  },
  {
   "cell_type": "code",
   "execution_count": 325,
   "metadata": {
    "collapsed": true
   },
   "outputs": [],
   "source": [
    "data_new = pd.concat([X, y_color], axis = 1) "
   ]
  },
  {
   "cell_type": "code",
   "execution_count": 330,
   "metadata": {
    "collapsed": true
   },
   "outputs": [],
   "source": [
    "mask = data_new.diagnosis == 'red'"
   ]
  },
  {
   "cell_type": "code",
   "execution_count": 339,
   "metadata": {
    "collapsed": true
   },
   "outputs": [],
   "source": [
    "m = data_new[mask]\n",
    "b = data_new[~mask]"
   ]
  },
  {
   "cell_type": "code",
   "execution_count": null,
   "metadata": {
    "collapsed": true
   },
   "outputs": [],
   "source": [
    "fig3, ax3 = plt.subplots(figsize = (5,5))\n",
    "\n",
    "m1 = ax3.scatter(m.iloc[:,0], m.iloc[:,1], color = 'red', label = 'M')\n",
    "b1 = ax3.scatter(b.iloc[:,0], b.iloc[:,1], color = 'yellow', label = 'B')\n",
    "ax3.legend();"
   ]
  },
  {
   "cell_type": "code",
   "execution_count": null,
   "metadata": {
    "collapsed": true
   },
   "outputs": [],
   "source": []
  },
  {
   "cell_type": "code",
   "execution_count": 64,
   "metadata": {},
   "outputs": [
    {
     "data": {
      "text/plain": [
       "(398, 30)"
      ]
     },
     "execution_count": 64,
     "metadata": {},
     "output_type": "execute_result"
    }
   ],
   "source": [
    "x_train.shape"
   ]
  },
  {
   "cell_type": "code",
   "execution_count": null,
   "metadata": {
    "collapsed": true
   },
   "outputs": [],
   "source": []
  }
 ],
 "metadata": {
  "kernelspec": {
   "display_name": "Python [conda env:idp]",
   "language": "python",
   "name": "conda-env-idp-py"
  },
  "language_info": {
   "codemirror_mode": {
    "name": "ipython",
    "version": 3
   },
   "file_extension": ".py",
   "mimetype": "text/x-python",
   "name": "python",
   "nbconvert_exporter": "python",
   "pygments_lexer": "ipython3",
   "version": "3.6.3"
  }
 },
 "nbformat": 4,
 "nbformat_minor": 2
}
